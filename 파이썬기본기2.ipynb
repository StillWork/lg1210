{
  "nbformat": 4,
  "nbformat_minor": 0,
  "metadata": {
    "colab": {
      "name": "파이썬기본기2.ipynb",
      "provenance": [],
      "collapsed_sections": [],
      "authorship_tag": "ABX9TyPenAZ3bbZmVHiBhpc6l+5s",
      "include_colab_link": true
    },
    "kernelspec": {
      "name": "python3",
      "display_name": "Python 3"
    }
  },
  "cells": [
    {
      "cell_type": "markdown",
      "metadata": {
        "id": "view-in-github",
        "colab_type": "text"
      },
      "source": [
        "<a href=\"https://colab.research.google.com/github/StillWork/lg1210/blob/main/%ED%8C%8C%EC%9D%B4%EC%8D%AC%EA%B8%B0%EB%B3%B8%EA%B8%B02.ipynb\" target=\"_parent\"><img src=\"https://colab.research.google.com/assets/colab-badge.svg\" alt=\"Open In Colab\"/></a>"
      ]
    },
    {
      "cell_type": "markdown",
      "metadata": {
        "id": "_s7n0TjXB9uZ"
      },
      "source": [
        "# 처음 배우는 파이썬\n",
        "- (1) 기본 변수: 정수, 소수, 불리언, 문자열\n",
        "- (2) 집합 변수 : 리스트, 튜플, 딕셔너리"
      ]
    },
    {
      "cell_type": "code",
      "metadata": {
        "colab": {
          "base_uri": "https://localhost:8080/"
        },
        "id": "AXgujpj-Bib3",
        "outputId": "31ed9d7c-fc48-43c0-b8a3-5cdc9fae8ad6"
      },
      "source": [
        "x = 3 ; y = 0.5 ; b = True ; c = False\n",
        "print(x+y+b+c)"
      ],
      "execution_count": null,
      "outputs": [
        {
          "output_type": "stream",
          "text": [
            "4.5\n"
          ],
          "name": "stdout"
        }
      ]
    },
    {
      "cell_type": "code",
      "metadata": {
        "colab": {
          "base_uri": "https://localhost:8080/",
          "height": 35
        },
        "id": "sJYmmJu9BqJ4",
        "outputId": "5c503b3c-947e-48d9-a953-8e7f1c273c41"
      },
      "source": [
        "z = \"Hello\" ; z"
      ],
      "execution_count": null,
      "outputs": [
        {
          "output_type": "execute_result",
          "data": {
            "application/vnd.google.colaboratory.intrinsic+json": {
              "type": "string"
            },
            "text/plain": [
              "'Hello'"
            ]
          },
          "metadata": {
            "tags": []
          },
          "execution_count": 3
        }
      ]
    },
    {
      "cell_type": "markdown",
      "metadata": {
        "id": "UAjbOE00CvH4"
      },
      "source": [
        "- 리스트: 데이터를 담는 통"
      ]
    },
    {
      "cell_type": "code",
      "metadata": {
        "colab": {
          "base_uri": "https://localhost:8080/"
        },
        "id": "P7hEX8rPCt8J",
        "outputId": "e0559ffd-eb64-4fa4-f4a8-348972f73621"
      },
      "source": [
        "x = [1,2,3,5,100] ; x.append(200) ; x"
      ],
      "execution_count": null,
      "outputs": [
        {
          "output_type": "execute_result",
          "data": {
            "text/plain": [
              "[1, 2, 3, 5, 100, 200]"
            ]
          },
          "metadata": {
            "tags": []
          },
          "execution_count": 4
        }
      ]
    },
    {
      "cell_type": "code",
      "metadata": {
        "colab": {
          "base_uri": "https://localhost:8080/"
        },
        "id": "bDbhZfcGFFB4",
        "outputId": "669d4d11-7684-4d66-d7fd-fdb623b448ce"
      },
      "source": [
        "(a, b) = (8, 9) # 튜플\n",
        "print(a)"
      ],
      "execution_count": null,
      "outputs": [
        {
          "output_type": "stream",
          "text": [
            "8\n"
          ],
          "name": "stdout"
        }
      ]
    },
    {
      "cell_type": "code",
      "metadata": {
        "colab": {
          "base_uri": "https://localhost:8080/"
        },
        "collapsed": true,
        "id": "Y2UO5gjhFSWz",
        "outputId": "a724a45a-fa8c-4dcd-adea-430bb39cdce3"
      },
      "source": [
        "dic = {\"a\":5, \"b\":\"아무 내용이나.....\"} # 딕셔너리\n",
        "print(dic[\"a\"])\n",
        "dic[\"c\"] = 1000 # 항목 추가\n",
        "print(dic)\n",
        "# ctrl + m + o"
      ],
      "execution_count": null,
      "outputs": [
        {
          "output_type": "stream",
          "text": [
            "5\n",
            "{'a': 5, 'b': '아무 내용이나.....', 'c': 1000}\n"
          ],
          "name": "stdout"
        }
      ]
    },
    {
      "cell_type": "markdown",
      "metadata": {
        "id": "2yj-m4joEh1a"
      },
      "source": [
        "[] - 리스트 만들때, 인덱싱  \n",
        "() - 함수 호출 (append(..)), 튜플(데이터 묶음)  \n",
        "{} - 딕셔너리 (키:값 으로 구성된 간단한 데이터베이스)  \n"
      ]
    },
    {
      "cell_type": "code",
      "metadata": {
        "colab": {
          "base_uri": "https://localhost:8080/"
        },
        "id": "E3dE3khXBw9K",
        "outputId": "d09cf4d3-fcbd-4886-a7fe-852cbf87bb38"
      },
      "source": [
        "x"
      ],
      "execution_count": null,
      "outputs": [
        {
          "output_type": "execute_result",
          "data": {
            "text/plain": [
              "[1, 2, 3, 5, 100, 200]"
            ]
          },
          "metadata": {
            "tags": []
          },
          "execution_count": 8
        }
      ]
    },
    {
      "cell_type": "code",
      "metadata": {
        "id": "mGYhxuLKTBew",
        "colab": {
          "base_uri": "https://localhost:8080/"
        },
        "outputId": "fb2e0df6-b048-4fd4-a989-ddb68464534d"
      },
      "source": [
        "x[-2:]"
      ],
      "execution_count": null,
      "outputs": [
        {
          "output_type": "execute_result",
          "data": {
            "text/plain": [
              "[100, 200]"
            ]
          },
          "metadata": {
            "tags": []
          },
          "execution_count": 11
        }
      ]
    },
    {
      "cell_type": "code",
      "metadata": {
        "colab": {
          "base_uri": "https://localhost:8080/"
        },
        "id": "FSQyLmMaDaSp",
        "outputId": "ce5d2670-c1ee-4def-f113-4b08983c33f1"
      },
      "source": [
        "# 코멘트 문장. 이것은 실행되지 않는 부분임, 슬라이싱 :  사용\n",
        "x[1:4]"
      ],
      "execution_count": null,
      "outputs": [
        {
          "output_type": "execute_result",
          "data": {
            "text/plain": [
              "[2, 3, 5]"
            ]
          },
          "metadata": {
            "tags": []
          },
          "execution_count": 13
        }
      ]
    },
    {
      "cell_type": "code",
      "metadata": {
        "colab": {
          "base_uri": "https://localhost:8080/"
        },
        "id": "ZIl2Mg_MDqSR",
        "outputId": "711018c0-6107-4161-db6b-d73d27aed07b"
      },
      "source": [
        "x[3:]"
      ],
      "execution_count": null,
      "outputs": [
        {
          "output_type": "execute_result",
          "data": {
            "text/plain": [
              "[5, 100, 200]"
            ]
          },
          "metadata": {
            "tags": []
          },
          "execution_count": 14
        }
      ]
    },
    {
      "cell_type": "code",
      "metadata": {
        "colab": {
          "base_uri": "https://localhost:8080/"
        },
        "id": "cEtQb7fXD3Um",
        "outputId": "a3830e28-d4b4-4278-e7d6-25a61724ad35"
      },
      "source": [
        "x[:4]"
      ],
      "execution_count": null,
      "outputs": [
        {
          "output_type": "execute_result",
          "data": {
            "text/plain": [
              "[1, 2, 3, 5]"
            ]
          },
          "metadata": {
            "tags": []
          },
          "execution_count": 15
        }
      ]
    },
    {
      "cell_type": "markdown",
      "metadata": {
        "id": "O9G8t0R0HuS7"
      },
      "source": [
        "흐름 관리 \":\" \n",
        "- if, else, elif, \n",
        "- for\n",
        "- while"
      ]
    },
    {
      "cell_type": "code",
      "metadata": {
        "colab": {
          "base_uri": "https://localhost:8080/"
        },
        "id": "auM_yLIJD7L3",
        "outputId": "5e55c35a-b6c7-432e-efd4-78e4adab11c5"
      },
      "source": [
        "x = 13\n",
        "if x > 10: \n",
        "  print(\"more than 10\")\n",
        "  print(\"more than 10 !!\")\n",
        "else:\n",
        "  print(\"less that 10\")"
      ],
      "execution_count": null,
      "outputs": [
        {
          "output_type": "stream",
          "text": [
            "more than 10\n",
            "more than 10 !!\n"
          ],
          "name": "stdout"
        }
      ]
    },
    {
      "cell_type": "code",
      "metadata": {
        "colab": {
          "base_uri": "https://localhost:8080/"
        },
        "collapsed": true,
        "id": "WNgDI7wCHJSz",
        "outputId": "f07a3167-2817-4c21-fcc8-8b1ecf8f2873"
      },
      "source": [
        "x = [1,2,5,10]\n",
        "for i in x:\n",
        "  print(i*10)"
      ],
      "execution_count": null,
      "outputs": [
        {
          "output_type": "stream",
          "text": [
            "10\n",
            "20\n",
            "50\n",
            "100\n"
          ],
          "name": "stdout"
        }
      ]
    },
    {
      "cell_type": "code",
      "metadata": {
        "colab": {
          "base_uri": "https://localhost:8080/"
        },
        "id": "II-zWK9MIIFl",
        "outputId": "d9030b29-313b-43f5-bd1d-04a201a3910b"
      },
      "source": [
        "tag = 0\n",
        "while tag < 5 :\n",
        "  print ('OK')\n",
        "  tag = tag +1"
      ],
      "execution_count": null,
      "outputs": [
        {
          "output_type": "stream",
          "text": [
            "OK\n",
            "OK\n",
            "OK\n",
            "OK\n",
            "OK\n"
          ],
          "name": "stdout"
        }
      ]
    },
    {
      "cell_type": "code",
      "metadata": {
        "id": "y2l20IvMUheV",
        "colab": {
          "base_uri": "https://localhost:8080/"
        },
        "outputId": "33f972ea-dfcf-4a7f-9ce2-e2d2ef678cbe"
      },
      "source": [
        "x = [1,2,5,10] # 리스트 (조작용) \n",
        "print(x * 3)\n",
        "type(x)"
      ],
      "execution_count": null,
      "outputs": [
        {
          "output_type": "stream",
          "text": [
            "[1, 2, 5, 10, 1, 2, 5, 10, 1, 2, 5, 10]\n"
          ],
          "name": "stdout"
        },
        {
          "output_type": "execute_result",
          "data": {
            "text/plain": [
              "list"
            ]
          },
          "metadata": {
            "tags": []
          },
          "execution_count": 21
        }
      ]
    },
    {
      "cell_type": "code",
      "metadata": {
        "id": "QUGbQilFUnEC",
        "colab": {
          "base_uri": "https://localhost:8080/"
        },
        "outputId": "24616ca8-e498-44f4-e0f8-fbb6404aebc7"
      },
      "source": [
        "import numpy as np\n",
        "y = np.array(x) # 리스트를 어레이로 전환 (계산을 위해서 배열로 바꿈)\n",
        "print(y*3)\n",
        "type(y)"
      ],
      "execution_count": null,
      "outputs": [
        {
          "output_type": "stream",
          "text": [
            "[ 3  6 15 30]\n"
          ],
          "name": "stdout"
        },
        {
          "output_type": "execute_result",
          "data": {
            "text/plain": [
              "numpy.ndarray"
            ]
          },
          "metadata": {
            "tags": []
          },
          "execution_count": 22
        }
      ]
    },
    {
      "cell_type": "code",
      "metadata": {
        "id": "07DSi0AZVB6n",
        "colab": {
          "base_uri": "https://localhost:8080/"
        },
        "outputId": "95e4bd7a-720c-4335-e30d-16af8e3e3acc"
      },
      "source": [
        "z = list(y) ; z"
      ],
      "execution_count": null,
      "outputs": [
        {
          "output_type": "execute_result",
          "data": {
            "text/plain": [
              "[1, 2, 5, 10]"
            ]
          },
          "metadata": {
            "tags": []
          },
          "execution_count": 24
        }
      ]
    },
    {
      "cell_type": "code",
      "metadata": {
        "id": "tPjzJ1-ZVGKF",
        "colab": {
          "base_uri": "https://localhost:8080/"
        },
        "outputId": "0100a674-e32a-4176-fc35-c0cd5d188fa8"
      },
      "source": [
        "x = [[1,2,3],\n",
        "     [4,5,6]]  # 2차원 리스트\n",
        "y = np.array(x) ; y*10  # 2차원 어레이 (계산용)"
      ],
      "execution_count": null,
      "outputs": [
        {
          "output_type": "execute_result",
          "data": {
            "text/plain": [
              "array([[10, 20, 30],\n",
              "       [40, 50, 60]])"
            ]
          },
          "metadata": {
            "tags": []
          },
          "execution_count": 31
        }
      ]
    },
    {
      "cell_type": "code",
      "metadata": {
        "id": "Y27vWOTKWCUM",
        "colab": {
          "base_uri": "https://localhost:8080/"
        },
        "outputId": "d7afdb84-8de7-4079-f66f-6201feaed17b"
      },
      "source": [
        "y + 1000"
      ],
      "execution_count": null,
      "outputs": [
        {
          "output_type": "execute_result",
          "data": {
            "text/plain": [
              "array([[1001, 1002, 1003],\n",
              "       [1004, 1005, 1006]])"
            ]
          },
          "metadata": {
            "tags": []
          },
          "execution_count": 33
        }
      ]
    },
    {
      "cell_type": "code",
      "metadata": {
        "id": "9TJUOwW0Ws8C",
        "colab": {
          "base_uri": "https://localhost:8080/",
          "height": 110
        },
        "outputId": "f50501ce-a467-4e4b-e932-eae3f79f243e"
      },
      "source": [
        "import pandas as pd\n",
        "df = pd.DataFrame(x) ; df # 데이터프레임을 생성 (액셀) 행번호(인덱스) 열(컬럼) 이름을 자동 생성"
      ],
      "execution_count": null,
      "outputs": [
        {
          "output_type": "execute_result",
          "data": {
            "text/html": [
              "<div>\n",
              "<style scoped>\n",
              "    .dataframe tbody tr th:only-of-type {\n",
              "        vertical-align: middle;\n",
              "    }\n",
              "\n",
              "    .dataframe tbody tr th {\n",
              "        vertical-align: top;\n",
              "    }\n",
              "\n",
              "    .dataframe thead th {\n",
              "        text-align: right;\n",
              "    }\n",
              "</style>\n",
              "<table border=\"1\" class=\"dataframe\">\n",
              "  <thead>\n",
              "    <tr style=\"text-align: right;\">\n",
              "      <th></th>\n",
              "      <th>0</th>\n",
              "      <th>1</th>\n",
              "      <th>2</th>\n",
              "    </tr>\n",
              "  </thead>\n",
              "  <tbody>\n",
              "    <tr>\n",
              "      <th>0</th>\n",
              "      <td>1</td>\n",
              "      <td>2</td>\n",
              "      <td>3</td>\n",
              "    </tr>\n",
              "    <tr>\n",
              "      <th>1</th>\n",
              "      <td>4</td>\n",
              "      <td>5</td>\n",
              "      <td>6</td>\n",
              "    </tr>\n",
              "  </tbody>\n",
              "</table>\n",
              "</div>"
            ],
            "text/plain": [
              "   0  1  2\n",
              "0  1  2  3\n",
              "1  4  5  6"
            ]
          },
          "metadata": {
            "tags": []
          },
          "execution_count": 34
        }
      ]
    },
    {
      "cell_type": "code",
      "metadata": {
        "id": "ch7AkMGUXOCj",
        "colab": {
          "base_uri": "https://localhost:8080/",
          "height": 110
        },
        "outputId": "b73635e6-626f-4810-d523-d29a03e48af1"
      },
      "source": [
        "df = pd.DataFrame(y, columns=[\"키\", \"몸무게\", \"나이\"]) ; df"
      ],
      "execution_count": null,
      "outputs": [
        {
          "output_type": "execute_result",
          "data": {
            "text/html": [
              "<div>\n",
              "<style scoped>\n",
              "    .dataframe tbody tr th:only-of-type {\n",
              "        vertical-align: middle;\n",
              "    }\n",
              "\n",
              "    .dataframe tbody tr th {\n",
              "        vertical-align: top;\n",
              "    }\n",
              "\n",
              "    .dataframe thead th {\n",
              "        text-align: right;\n",
              "    }\n",
              "</style>\n",
              "<table border=\"1\" class=\"dataframe\">\n",
              "  <thead>\n",
              "    <tr style=\"text-align: right;\">\n",
              "      <th></th>\n",
              "      <th>키</th>\n",
              "      <th>몸무게</th>\n",
              "      <th>나이</th>\n",
              "    </tr>\n",
              "  </thead>\n",
              "  <tbody>\n",
              "    <tr>\n",
              "      <th>0</th>\n",
              "      <td>1</td>\n",
              "      <td>2</td>\n",
              "      <td>3</td>\n",
              "    </tr>\n",
              "    <tr>\n",
              "      <th>1</th>\n",
              "      <td>4</td>\n",
              "      <td>5</td>\n",
              "      <td>6</td>\n",
              "    </tr>\n",
              "  </tbody>\n",
              "</table>\n",
              "</div>"
            ],
            "text/plain": [
              "   키  몸무게  나이\n",
              "0  1    2   3\n",
              "1  4    5   6"
            ]
          },
          "metadata": {
            "tags": []
          },
          "execution_count": 37
        }
      ]
    },
    {
      "cell_type": "code",
      "metadata": {
        "id": "Y7r6PtHNYAVc",
        "colab": {
          "base_uri": "https://localhost:8080/"
        },
        "outputId": "cd871678-b382-4b44-91b7-2b555369c022"
      },
      "source": [
        "df.values # 데이터프레임 --> 어레이 (인덱스와 컬럼명을 버리고 값만 취함)"
      ],
      "execution_count": null,
      "outputs": [
        {
          "output_type": "execute_result",
          "data": {
            "text/plain": [
              "array([[1, 2, 3],\n",
              "       [4, 5, 6]])"
            ]
          },
          "metadata": {
            "tags": []
          },
          "execution_count": 40
        }
      ]
    },
    {
      "cell_type": "code",
      "metadata": {
        "id": "RwCHR-eXYdtE"
      },
      "source": [
        ""
      ],
      "execution_count": null,
      "outputs": []
    }
  ]
}