{
  "nbformat": 4,
  "nbformat_minor": 0,
  "metadata": {
    "colab": {
      "name": "파이썬기본기.ipynb",
      "provenance": [],
      "collapsed_sections": [],
      "authorship_tag": "ABX9TyMuF5PNDrfk7HTlXldqabBJ",
      "include_colab_link": true
    },
    "kernelspec": {
      "name": "python3",
      "display_name": "Python 3"
    }
  },
  "cells": [
    {
      "cell_type": "markdown",
      "metadata": {
        "id": "view-in-github",
        "colab_type": "text"
      },
      "source": [
        "<a href=\"https://colab.research.google.com/github/StillWork/lg1210/blob/main/%ED%8C%8C%EC%9D%B4%EC%8D%AC%EA%B8%B0%EB%B3%B8%EA%B8%B0.ipynb\" target=\"_parent\"><img src=\"https://colab.research.google.com/assets/colab-badge.svg\" alt=\"Open In Colab\"/></a>"
      ]
    },
    {
      "cell_type": "markdown",
      "metadata": {
        "id": "_s7n0TjXB9uZ"
      },
      "source": [
        "# 처음 배우는 파이썬\n",
        "- (1) 기본 변수: 정수, 소수, 불리언, 문자열\n",
        "- (2) 집합 변수 : 리스트, 튜플, 딕셔너리"
      ]
    },
    {
      "cell_type": "code",
      "metadata": {
        "colab": {
          "base_uri": "https://localhost:8080/"
        },
        "id": "AXgujpj-Bib3",
        "outputId": "b881e248-7c9f-4e65-a12e-5ff510223fee"
      },
      "source": [
        "x = 3 ; y = 0.5 ; b = True ; c = False\n",
        "print(x+y+b+c)"
      ],
      "execution_count": 35,
      "outputs": [
        {
          "output_type": "stream",
          "text": [
            "4.5\n"
          ],
          "name": "stdout"
        }
      ]
    },
    {
      "cell_type": "code",
      "metadata": {
        "colab": {
          "base_uri": "https://localhost:8080/",
          "height": 35
        },
        "id": "sJYmmJu9BqJ4",
        "outputId": "3346c7b7-5f7d-483a-fa24-80d35c149855"
      },
      "source": [
        "z = \"Hello\" ; z"
      ],
      "execution_count": 36,
      "outputs": [
        {
          "output_type": "execute_result",
          "data": {
            "application/vnd.google.colaboratory.intrinsic+json": {
              "type": "string"
            },
            "text/plain": [
              "'Hello'"
            ]
          },
          "metadata": {
            "tags": []
          },
          "execution_count": 36
        }
      ]
    },
    {
      "cell_type": "markdown",
      "metadata": {
        "id": "UAjbOE00CvH4"
      },
      "source": [
        "- 리스트: 데이터를 담는 통"
      ]
    },
    {
      "cell_type": "code",
      "metadata": {
        "colab": {
          "base_uri": "https://localhost:8080/"
        },
        "id": "P7hEX8rPCt8J",
        "outputId": "60257c13-62cb-451d-ec7c-34d04f599d7a"
      },
      "source": [
        "x = [1,2,3,5,100] ; x.append(200) ; x"
      ],
      "execution_count": 37,
      "outputs": [
        {
          "output_type": "execute_result",
          "data": {
            "text/plain": [
              "[1, 2, 3, 5, 100, 200]"
            ]
          },
          "metadata": {
            "tags": []
          },
          "execution_count": 37
        }
      ]
    },
    {
      "cell_type": "code",
      "metadata": {
        "colab": {
          "base_uri": "https://localhost:8080/"
        },
        "id": "bDbhZfcGFFB4",
        "outputId": "82638349-a1d6-41a0-a287-e0bc3d2d945f"
      },
      "source": [
        "  (a, b) = (8, 9) # 튜플\n",
        "  print(a)"
      ],
      "execution_count": 18,
      "outputs": [
        {
          "output_type": "stream",
          "text": [
            "8\n"
          ],
          "name": "stdout"
        }
      ]
    },
    {
      "cell_type": "code",
      "metadata": {
        "colab": {
          "base_uri": "https://localhost:8080/"
        },
        "collapsed": true,
        "id": "Y2UO5gjhFSWz",
        "outputId": "3e76cb9c-0097-479f-a56c-e1c04bd8d886"
      },
      "source": [
        "dic = {\"a\":5, \"b\":8} # 딕셔너리\n",
        "print(dic[\"a\"])\n",
        "dic[\"c\"] = 1000 # 항목 추가\n",
        "print(dic)\n",
        "# ctrl + m + o"
      ],
      "execution_count": 25,
      "outputs": [
        {
          "output_type": "stream",
          "text": [
            "5\n",
            "{'a': 5, 'b': 8, 'c': 1000}\n"
          ],
          "name": "stdout"
        }
      ]
    },
    {
      "cell_type": "markdown",
      "metadata": {
        "id": "2yj-m4joEh1a"
      },
      "source": [
        "[] - 리스트 만들때, 인덱싱  \n",
        "() - 함수 호출 (append(..)), 튜플(데이터 묶음)  \n",
        "{} - 딕셔너리 (키:값 으로 구성된 간단한 데이터베이스)  \n"
      ]
    },
    {
      "cell_type": "code",
      "metadata": {
        "colab": {
          "base_uri": "https://localhost:8080/"
        },
        "id": "E3dE3khXBw9K",
        "outputId": "ed39ba4d-0320-430f-99f5-0767b278f3f1"
      },
      "source": [
        "x"
      ],
      "execution_count": 11,
      "outputs": [
        {
          "output_type": "execute_result",
          "data": {
            "text/plain": [
              "[1, 2, 3, 5, 100, 200]"
            ]
          },
          "metadata": {
            "tags": []
          },
          "execution_count": 11
        }
      ]
    },
    {
      "cell_type": "code",
      "metadata": {
        "colab": {
          "base_uri": "https://localhost:8080/"
        },
        "id": "FSQyLmMaDaSp",
        "outputId": "ce5d2670-c1ee-4def-f113-4b08983c33f1"
      },
      "source": [
        "# 코멘트 문장. 이것은 실행되지 않는 부분임, 슬라이싱 :  사용\n",
        "x[1:4]"
      ],
      "execution_count": 13,
      "outputs": [
        {
          "output_type": "execute_result",
          "data": {
            "text/plain": [
              "[2, 3, 5]"
            ]
          },
          "metadata": {
            "tags": []
          },
          "execution_count": 13
        }
      ]
    },
    {
      "cell_type": "code",
      "metadata": {
        "colab": {
          "base_uri": "https://localhost:8080/"
        },
        "id": "ZIl2Mg_MDqSR",
        "outputId": "711018c0-6107-4161-db6b-d73d27aed07b"
      },
      "source": [
        "x[3:]"
      ],
      "execution_count": 14,
      "outputs": [
        {
          "output_type": "execute_result",
          "data": {
            "text/plain": [
              "[5, 100, 200]"
            ]
          },
          "metadata": {
            "tags": []
          },
          "execution_count": 14
        }
      ]
    },
    {
      "cell_type": "code",
      "metadata": {
        "colab": {
          "base_uri": "https://localhost:8080/"
        },
        "id": "cEtQb7fXD3Um",
        "outputId": "a3830e28-d4b4-4278-e7d6-25a61724ad35"
      },
      "source": [
        "x[:4]"
      ],
      "execution_count": 15,
      "outputs": [
        {
          "output_type": "execute_result",
          "data": {
            "text/plain": [
              "[1, 2, 3, 5]"
            ]
          },
          "metadata": {
            "tags": []
          },
          "execution_count": 15
        }
      ]
    },
    {
      "cell_type": "markdown",
      "metadata": {
        "id": "O9G8t0R0HuS7"
      },
      "source": [
        "흐름 관리 \":\" \n",
        "- if, else, elif, \n",
        "- for\n",
        "- while"
      ]
    },
    {
      "cell_type": "code",
      "metadata": {
        "colab": {
          "base_uri": "https://localhost:8080/"
        },
        "id": "auM_yLIJD7L3",
        "outputId": "5e55c35a-b6c7-432e-efd4-78e4adab11c5"
      },
      "source": [
        "x = 13\n",
        "if x > 10: \n",
        "  print(\"more than 10\")\n",
        "  print(\"more than 10 !!\")\n",
        "else:\n",
        "  print(\"less that 10\")"
      ],
      "execution_count": 32,
      "outputs": [
        {
          "output_type": "stream",
          "text": [
            "more than 10\n",
            "more than 10 !!\n"
          ],
          "name": "stdout"
        }
      ]
    },
    {
      "cell_type": "code",
      "metadata": {
        "colab": {
          "base_uri": "https://localhost:8080/"
        },
        "collapsed": true,
        "id": "WNgDI7wCHJSz",
        "outputId": "876f3b1a-bbae-4ae3-e4f0-d8a905717f9f"
      },
      "source": [
        "x = [1,2,5,10]\n",
        "for i in x:\n",
        "  print(i*10)"
      ],
      "execution_count": 33,
      "outputs": [
        {
          "output_type": "stream",
          "text": [
            "10\n",
            "20\n",
            "50\n",
            "100\n"
          ],
          "name": "stdout"
        }
      ]
    },
    {
      "cell_type": "code",
      "metadata": {
        "colab": {
          "base_uri": "https://localhost:8080/"
        },
        "id": "II-zWK9MIIFl",
        "outputId": "9fc81e46-e5c4-427e-a359-3993f159442a"
      },
      "source": [
        "tag = 0\n",
        "while tag < 5 :\n",
        "  print ('OK')\n",
        "  tag = tag +1"
      ],
      "execution_count": 34,
      "outputs": [
        {
          "output_type": "stream",
          "text": [
            "OK\n",
            "OK\n",
            "OK\n",
            "OK\n",
            "OK\n"
          ],
          "name": "stdout"
        }
      ]
    }
  ]
}